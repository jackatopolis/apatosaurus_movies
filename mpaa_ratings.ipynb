{
 "cells": [
  {
   "cell_type": "code",
   "execution_count": 3,
   "id": "8a7f9728-045a-453e-a4c4-5ed216f6d560",
   "metadata": {},
   "outputs": [],
   "source": [
    "# Dependencies\n",
    "\n",
    "import json\n",
    "import pandas as pd\n",
    "import numpy as np\n",
    "import matplotlib.pyplot as plt\n",
    "from scipy.stats import linregress\n"
   ]
  },
  {
   "cell_type": "code",
   "execution_count": 4,
   "id": "c10b44ed-21b2-4914-8a44-8826a89f28ce",
   "metadata": {},
   "outputs": [
    {
     "data": {
      "text/plain": [
       "{'Title': 'The Sixth Sense',\n",
       " 'Year': '1999',\n",
       " 'Rated': 'PG-13',\n",
       " 'Released': '06 Aug 1999',\n",
       " 'Runtime': '107 min',\n",
       " 'Genre': 'Drama, Mystery, Thriller',\n",
       " 'Director': 'M. Night Shyamalan',\n",
       " 'Writer': 'M. Night Shyamalan',\n",
       " 'Actors': 'Bruce Willis, Haley Joel Osment, Toni Collette',\n",
       " 'Plot': 'A boy who communicates with spirits seeks the help of a disheartened child psychologist.',\n",
       " 'Language': 'English, Latin, Spanish',\n",
       " 'Country': 'United States',\n",
       " 'Awards': 'Nominated for 6 Oscars. 37 wins & 56 nominations total',\n",
       " 'Poster': 'https://m.media-amazon.com/images/M/MV5BMWM4NTFhYjctNzUyNi00NGMwLTk3NTYtMDIyNTZmMzRlYmQyXkEyXkFqcGdeQXVyMTAwMzUyOTc@._V1_SX300.jpg',\n",
       " 'Ratings': [{'Source': 'Internet Movie Database', 'Value': '8.1/10'},\n",
       "  {'Source': 'Rotten Tomatoes', 'Value': '86%'},\n",
       "  {'Source': 'Metacritic', 'Value': '64/100'}],\n",
       " 'Metascore': '64',\n",
       " 'imdbRating': '8.1',\n",
       " 'imdbVotes': '930,921',\n",
       " 'imdbID': 'tt0167404',\n",
       " 'Type': 'movie',\n",
       " 'DVD': '28 Oct 2016',\n",
       " 'BoxOffice': 293506292,\n",
       " 'Production': 'Hollywood Pictures, Spyglass Entertainment',\n",
       " 'Website': 'N/A',\n",
       " 'Response': 'True'}"
      ]
     },
     "execution_count": 4,
     "metadata": {},
     "output_type": "execute_result"
    }
   ],
   "source": [
    "# Import data from .txt file\n",
    "\n",
    "with open('movie_data.txt') as json_file:\n",
    "    data = json.load(json_file)\n",
    "\n",
    "data['1999']['The Sixth Sense']"
   ]
  },
  {
   "cell_type": "code",
   "execution_count": null,
   "id": "e8dfdccc-e03e-4a33-b037-6306f445d898",
   "metadata": {},
   "outputs": [],
   "source": []
  },
  {
   "cell_type": "code",
   "execution_count": 5,
   "id": "746c9593-1841-432e-9456-84da937dc89c",
   "metadata": {},
   "outputs": [
    {
     "data": {
      "text/plain": [
       "['G', 'N/A', 'PG', 'PG-13', 'R', 'Unrated']"
      ]
     },
     "execution_count": 5,
     "metadata": {},
     "output_type": "execute_result"
    }
   ],
   "source": [
    "mpaa_rating = {}\n",
    "mpaa_list = []\n",
    "\n",
    "for year in list(data.keys()):\n",
    "    movies = list(data[year].keys())\n",
    "    mpaa_list = []\n",
    "    for movie in movies:\n",
    "        try:\n",
    "            mpaa_r = data[year][movie]['Rated']\n",
    "            \n",
    "            mpaa_list.append(mpaa_r)\n",
    "        except:\n",
    "            print(\" Year: \"+year+\" Movie: \"+movie)\n",
    "    mpaa_rating[year] = mpaa_list\n",
    "res = list(sorted({ele for val in mpaa_rating.values() for ele in val}))\n",
    "res"
   ]
  },
  {
   "cell_type": "code",
   "execution_count": 6,
   "id": "eed7e600-31e7-480a-b50c-6b3de6433f29",
   "metadata": {},
   "outputs": [
    {
     "name": "stdout",
     "output_type": "stream",
     "text": [
      "Counter({'R': 26, 'PG': 21})\n",
      "Counter({'R': 26, 'PG': 20, 'G': 1})\n",
      "Counter({'R': 18, 'PG': 15})\n",
      "Counter({'R': 24, 'PG': 15})\n",
      "Counter({'PG': 23, 'R': 14, 'PG-13': 3, 'G': 1})\n",
      "Counter({'R': 17, 'PG': 13, 'PG-13': 12, 'G': 1})\n",
      "Counter({'R': 16, 'PG': 11, 'PG-13': 11, 'G': 2})\n",
      "Counter({'R': 19, 'PG-13': 12, 'PG': 11})\n",
      "Counter({'R': 21, 'PG': 10, 'PG-13': 5, 'G': 2})\n",
      "Counter({'PG': 13, 'R': 12, 'PG-13': 11, 'G': 1})\n",
      "Counter({'R': 22, 'PG-13': 11, 'PG': 8})\n",
      "Counter({'R': 18, 'PG-13': 12, 'PG': 11, 'G': 1})\n",
      "Counter({'R': 22, 'PG': 10, 'PG-13': 8, 'G': 1})\n",
      "Counter({'R': 15, 'PG-13': 14, 'PG': 13, 'G': 1})\n",
      "Counter({'R': 17, 'PG-13': 13, 'PG': 12, 'G': 1})\n",
      "Counter({'PG-13': 16, 'R': 16, 'PG': 8, 'G': 4})\n",
      "Counter({'R': 17, 'PG-13': 15, 'PG': 5, 'G': 4})\n",
      "Counter({'R': 19, 'PG-13': 18, 'PG': 4, 'G': 2})\n",
      "Counter({'PG-13': 21, 'R': 13, 'PG': 6, 'G': 3, 'N/A': 1, 'Unrated': 1})\n",
      "Counter({'R': 21, 'PG-13': 15, 'PG': 4, 'G': 2})\n",
      "Counter({'PG-13': 16, 'R': 15, 'PG': 7, 'G': 3})\n",
      "Counter({'PG-13': 21, 'R': 15, 'PG': 6, 'G': 2})\n",
      "Counter({'PG-13': 23, 'PG': 10, 'R': 10, 'G': 3})\n",
      "Counter({'PG-13': 21, 'R': 14, 'PG': 7, 'G': 2})\n",
      "Counter({'PG-13': 26, 'PG': 11, 'R': 7, 'G': 2})\n",
      "Counter({'PG-13': 25, 'PG': 9, 'R': 8, 'G': 2})\n",
      "Counter({'PG-13': 23, 'PG': 13, 'R': 8, 'G': 2})\n",
      "Counter({'PG-13': 22, 'PG': 13, 'R': 7, 'G': 2})\n",
      "Counter({'PG-13': 25, 'R': 9, 'PG': 8, 'G': 4})\n",
      "Counter({'PG-13': 16, 'PG': 13, 'R': 9, 'G': 2})\n",
      "Counter({'PG-13': 23, 'PG': 12, 'R': 9, 'G': 1})\n",
      "Counter({'PG-13': 22, 'PG': 11, 'R': 7, 'G': 4})\n",
      "Counter({'PG-13': 24, 'R': 14, 'PG': 10})\n",
      "Counter({'PG-13': 22, 'R': 10, 'PG': 9, 'G': 1})\n",
      "Counter({'PG-13': 23, 'PG': 11, 'R': 11, 'G': 1})\n",
      "Counter({'PG-13': 19, 'PG': 11, 'R': 11, 'G': 1})\n",
      "Counter({'PG-13': 23, 'PG': 12, 'R': 10})\n",
      "Counter({'PG-13': 20, 'R': 14, 'PG': 10, 'G': 1})\n",
      "Counter({'PG-13': 24, 'PG': 12, 'R': 10})\n",
      "Counter({'PG-13': 17, 'PG': 14, 'R': 12, 'G': 1})\n",
      "Counter({'PG-13': 13, 'R': 12, 'PG': 8})\n"
     ]
    }
   ],
   "source": [
    "from collections import Counter\n",
    "for year in list(mpaa_rating.keys()):\n",
    "    print(Counter(mpaa_rating[year]))\n"
   ]
  },
  {
   "cell_type": "code",
   "execution_count": 7,
   "id": "9672eafe-3a96-4aea-9742-ecfe212f1c63",
   "metadata": {},
   "outputs": [
    {
     "data": {
      "text/plain": [
       "0"
      ]
     },
     "execution_count": 7,
     "metadata": {},
     "output_type": "execute_result"
    }
   ],
   "source": [
    "r_rated = {}\n",
    "pg_13_rated = {}\n",
    "pg_rated = {}\n",
    "g_rated = {}\n",
    "other_rated = {}\n",
    "\n",
    "r_list = []\n",
    "pg_13_list = []\n",
    "pg_list = []\n",
    "g_list = []\n",
    "other_list = []\n",
    "\n",
    "\n",
    "for year in list(mpaa_rating.keys()):\n",
    "    r_list = []\n",
    "    pg_13_list = []\n",
    "    pg_list = []\n",
    "    g_list = []\n",
    "    other_list = []\n",
    "    for i in list(mpaa_rating[year]):\n",
    "        if i=='R':\n",
    "            r_list.append(i)\n",
    "        elif i=='PG-13':\n",
    "            pg_13_list.append(i)\n",
    "        elif i=='PG':\n",
    "            pg_list.append(i)\n",
    "        elif i=='G':\n",
    "            g_list.append(i)\n",
    "        else:\n",
    "            other_list.append(i)\n",
    "        r_list_len = len(r_list)\n",
    "        pg_13_list_len = len(pg_13_list)\n",
    "        pg_list_len = len(pg_list)\n",
    "        g_list_len = len(g_list)\n",
    "        other_list_len = len(other_list)\n",
    "    r_rated[year] = r_list_len\n",
    "    pg_13_rated[year] = pg_13_list_len\n",
    "    pg_rated[year] = pg_list_len\n",
    "    g_rated[year] = g_list_len\n",
    "    other_rated[year] = other_list_len\n",
    "\n",
    "g_rated['1980']"
   ]
  },
  {
   "cell_type": "code",
   "execution_count": 10,
   "id": "2246dfe5-2f4f-4b93-968d-4ae4da017a48",
   "metadata": {},
   "outputs": [
    {
     "data": {
      "image/png": "[encoded data removed]",
      "text/plain": [
       "<Figure size 432x288 with 1 Axes>"
      ]
     },
     "metadata": {
      "needs_background": "light"
     },
     "output_type": "display_data"
    }
   ],
   "source": [
    "trying_1, = plt.plot(*zip(*sorted(r_rated.items())), color='red')\n",
    "trying_2, = plt.plot(*zip(*sorted(pg_13_rated.items())), color='purple')\n",
    "trying_3, = plt.plot(*zip(*sorted(pg_rated.items())), color='blue')\n",
    "trying_4, = plt.plot(*zip(*sorted(g_rated.items())), color='green')\n",
    "plt.legend([trying_1, trying_2, trying_3, trying_4], ['R-Rated', 'PG-13-Rated', 'PG-Rated', 'G-Rated'],\n",
    "          bbox_to_anchor=(1.05,1),loc='upper left',title='MPAA Ratings')\n",
    "\n",
    "plt.xticks((0,5,10,15,20,25,30,35,40), \n",
    "           labels=('1980', '1985', '1990', '1995', '2000', '2005', '2010', '2015', '2020'))\n",
    "plt.xlabel('Year')\n",
    "plt.ylabel('Frequency')\n",
    "plt.title('Frequency of MPAA Ratings in Top Movies from 1980-2020')\n",
    "plt.show()"
   ]
  },
  {
   "cell_type": "code",
   "execution_count": null,
   "id": "6a641997-355a-4b3b-a977-4bfb197f4832",
   "metadata": {},
   "outputs": [],
   "source": []
  }
 ],
 "metadata": {
  "kernelspec": {
   "display_name": "Python 3",
   "language": "python",
   "name": "python3"
  },
  "language_info": {
   "codemirror_mode": {
    "name": "ipython",
    "version": 3
   },
   "file_extension": ".py",
   "mimetype": "text/x-python",
   "name": "python",
   "nbconvert_exporter": "python",
   "pygments_lexer": "ipython3",
   "version": "3.6.10"
  }
 },
 "nbformat": 4,
 "nbformat_minor": 5
}
