{
 "cells": [
  {
   "cell_type": "code",
   "execution_count": 120,
   "metadata": {},
   "outputs": [],
   "source": [
    "# Dependencies\n",
    "\n",
    "import json\n",
    "import pandas as pd\n",
    "import numpy as np\n",
    "import matplotlib.pyplot as plt\n",
    "from scipy.stats import linregress\n"
   ]
  },
  {
   "cell_type": "code",
   "execution_count": 121,
   "metadata": {},
   "outputs": [],
   "source": [
    "# Import data from .txt file\n",
    "\n",
    "with open('movie_data.txt') as json_file:\n",
    "    data = json.load(json_file)\n",
    "\n"
   ]
  },
  {
   "cell_type": "code",
   "execution_count": 130,
   "metadata": {},
   "outputs": [
    {
     "name": "stdout",
     "output_type": "stream",
     "text": [
      " Year: 1980 Movie: In God We Trust (or Gimme That Prime Time Religion)\n",
      " Year: 1981 Movie: Indiana Jones and the Raiders of the Lost Ark\n",
      " Year: 1981 Movie: Cinderella1981 Re-release\n",
      " Year: 1982 Movie: Indiana Jones and the Raiders of the Lost Ark\n",
      " Year: 1982 Movie: Cinderella1981 Re-release\n",
      " Year: 1982 Movie: Bambi1982 Re-release\n",
      " Year: 1982 Movie: Indiana Jones and the Raiders of the Lost Ark1982 Re-release\n",
      " Year: 1983 Movie: Snow White and the Seven Dwarfs1983 Re-release\n",
      " Year: 1984 Movie: The Jungle Book1984 Re-release\n",
      " Year: 1985 Movie: E.T. the Extra-Terrestrial1985 Re-release\n",
      " Year: 1986 Movie: One Hundred and One Dalmatians1985 Re-release\n",
      " Year: 1987 Movie: Snow White and the Seven Dwarfs1987 Re-release\n",
      " Year: 1987 Movie: Cinderella1987 Re-release\n",
      " Year: 1988 Movie: Bambi1988 Re-release\n",
      " Year: 1988 Movie: The Fox and the Hound1988 Re-release\n",
      " Year: 1989 Movie: Peter Pan1989 Re-release\n",
      " Year: 1990 Movie: The Jungle Book1990 Re-release\n",
      " Year: 1991 Movie: One Hundred and One Dalmatians1991 Re-release\n",
      " Year: 1993 Movie: Snow White and the Seven Dwarfs1993 Re-release\n",
      " Year: 1997 Movie: Star Wars: Episode IV - A New Hope1997 Special Edition\n",
      " Year: 1997 Movie: Star Wars: Episode V - The Empire Strikes Back1997 Special Edition\n",
      " Year: 1997 Movie: Star Wars: Episode VI - Return of the Jedi1997 Special Edition\n",
      " Year: 1998 Movie: Ever After: A Cinderella Story\n",
      " Year: 1999 Movie: Pokémon: The First Movie - Mewtwo Strikes Back\n",
      " Year: 2003 Movie: X2: X-Men United\n",
      " Year: 2007 Movie: Fantastic 4: Rise of the Silver Surfer\n",
      " Year: 2007 Movie: Tyler Perry's Why Did I Get Married?\n",
      " Year: 2010 Movie: Knight and Day2010 Re-release\n",
      " Year: 2011 Movie: The Lion King2011 3D Release\n",
      " Year: 2013 Movie: Lee Daniels' The Butler\n",
      " Year: 2015 Movie: The Divergent Series: Insurgent\n",
      " Year: 2020 Movie: My Hero Academia: Heroes Rising\n",
      " Year: 2020 Movie: Weathering with You\n"
     ]
    }
   ],
   "source": [
    "#Get run times of each movie\n",
    "run_times = {}\n",
    "run_list = []\n",
    "\n",
    "for year in list(data.keys()):\n",
    "    movies = list(data[year].keys())\n",
    "    run_list = []\n",
    "    for movie in movies:\n",
    "        try:\n",
    "            run_time = data[year][movie]['Runtime'][0:-4]\n",
    "            \n",
    "            run_list.append(run_time)\n",
    "        except:\n",
    "            print(\" Year: \"+year+\" Movie: \"+movie)\n",
    "    run_times[year] = run_list\n"
   ]
  },
  {
   "cell_type": "code",
   "execution_count": 124,
   "metadata": {},
   "outputs": [
    {
     "name": "stdout",
     "output_type": "stream",
     "text": [
      "Runtime not found ('1989', 48)\n",
      "Runtime not found ('1996', 28)\n",
      "Runtime not found ('2005', 26)\n",
      "Runtime not found ('2010', 34)\n",
      "Runtime not found ('2013', 0)\n"
     ]
    }
   ],
   "source": [
    "#Change values from string to int\n",
    "for year in run_times.keys():    \n",
    "    for i in range(0,len(run_times[year])):\n",
    "        try:\n",
    "            run_times[year][i]=int(run_times[year][i])\n",
    "        except:\n",
    "            print(f'Runtime not found {year, i}')\n",
    "\n",
    "\n"
   ]
  },
  {
   "cell_type": "code",
   "execution_count": 126,
   "metadata": {},
   "outputs": [],
   "source": [
    "#Remove the null values\n",
    "run_times['1989'].remove('')\n",
    "run_times['1996'].remove('')\n",
    "run_times['2005'].remove('')\n",
    "run_times['2010'].remove('')\n",
    "run_times['2013'].remove('')"
   ]
  },
  {
   "cell_type": "code",
   "execution_count": 127,
   "metadata": {},
   "outputs": [],
   "source": [
    "#Get runtime averages of movies by year\n",
    "avg_run_time = []\n",
    "for year in run_times.keys():\n",
    "    avg = np.average(run_times[year])\n",
    "    avg_run_time.append(avg)\n",
    "\n"
   ]
  },
  {
   "cell_type": "code",
   "execution_count": 129,
   "metadata": {},
   "outputs": [
    {
     "data": {
      "image/png": "[encoded data removed]",
      "text/plain": [
       "<Figure size 432x288 with 1 Axes>"
      ]
     },
     "metadata": {
      "needs_background": "light"
     },
     "output_type": "display_data"
    },
    {
     "name": "stdout",
     "output_type": "stream",
     "text": [
      "The P-value is: 5.3159704708210064e-05\n",
      "The R-Value is : 0.587844435855909\n"
     ]
    }
   ],
   "source": [
    "#Plot\n",
    "plt.plot(avg_run_time)\n",
    "\n",
    "plt.xticks((0,5,10,15,20,25,30,35,40), \n",
    "           labels=('1980', '1985', '1990', '1995', '2000', '2005', '2010', '2015', '2020'))\n",
    "plt.xlabel('Year')\n",
    "plt.ylabel('Runtime in Minutes')\n",
    "plt.title('Runtime in Minutes 1980-2020')\n",
    "(slope, intercept, rvalue, pvalue, stderr) = linregress(range(41), avg_run_time)\n",
    "regress_values = range(41) * slope + intercept\n",
    "plt.plot(range(41),regress_values,\"r-\")\n",
    "plt.show()\n",
    "print(f'The P-value is: {pvalue}')\n",
    "print(f'The R-Value is : {rvalue}')\n"
   ]
  },
  {
   "cell_type": "code",
   "execution_count": null,
   "metadata": {},
   "outputs": [],
   "source": []
  }
 ],
 "metadata": {
  "kernelspec": {
   "display_name": "Python 3",
   "language": "python",
   "name": "python3"
  },
  "language_info": {
   "codemirror_mode": {
    "name": "ipython",
    "version": 3
   },
   "file_extension": ".py",
   "mimetype": "text/x-python",
   "name": "python",
   "nbconvert_exporter": "python",
   "pygments_lexer": "ipython3",
   "version": "3.6.10"
  }
 },
 "nbformat": 4,
 "nbformat_minor": 4
}
