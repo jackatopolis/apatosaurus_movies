{
 "cells": [
  {
   "cell_type": "code",
   "execution_count": 1,
   "id": "03caadbf-1740-4f99-aa69-c37f4d0d01aa",
   "metadata": {},
   "outputs": [],
   "source": [
    "import requests as req\n",
    "from movie_list import all_movies\n",
    "from config import api_key\n",
    "\n",
    "\n"
   ]
  },
  {
   "cell_type": "code",
   "execution_count": 2,
   "id": "54012b4b-59da-4541-99a4-8f17c047e984",
   "metadata": {},
   "outputs": [],
   "source": [
    "movie_data = {}\n",
    "\n",
    "for year in all_movies.keys():\n",
    "    movie_data = {}\n",
    "    for movie in all_movies[year]:\n",
    "        url = f\"http://www.omdbapi.com/?apikey={api_key}&t={movie}\"\n",
    "        data = req.get(url).json()\n",
    "        movie_data[movie] = data\n",
    "        all_movies[year] = movie_data\n"
   ]
  },
  {
   "cell_type": "code",
   "execution_count": null,
   "id": "76f705c2-786c-478e-b962-c11e93adf815",
   "metadata": {},
   "outputs": [],
   "source": [
    "import json\n",
    "with open('movie_data.txt', 'w') as outfile:\n",
    "    json.dump(all_movies, outfile)"
   ]
  },
  {
   "cell_type": "code",
   "execution_count": null,
   "id": "c2f9d107-0850-4634-89d3-4b8657173154",
   "metadata": {},
   "outputs": [],
   "source": []
  }
 ],
 "metadata": {
  "kernelspec": {
   "display_name": "Python 3",
   "language": "python",
   "name": "python3"
  },
  "language_info": {
   "codemirror_mode": {
    "name": "ipython",
    "version": 3
   },
   "file_extension": ".py",
   "mimetype": "text/x-python",
   "name": "python",
   "nbconvert_exporter": "python",
   "pygments_lexer": "ipython3",
   "version": "3.8.8"
  }
 },
 "nbformat": 4,
 "nbformat_minor": 5
}
